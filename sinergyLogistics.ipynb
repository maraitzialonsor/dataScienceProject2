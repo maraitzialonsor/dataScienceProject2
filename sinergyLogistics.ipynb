{
  "nbformat": 4,
  "nbformat_minor": 0,
  "metadata": {
    "colab": {
      "name": "sinergyLogistics.ipynb",
      "provenance": []
    },
    "kernelspec": {
      "name": "python3",
      "display_name": "Python 3"
    },
    "language_info": {
      "name": "python"
    }
  },
  "cells": [
    {
      "cell_type": "markdown",
      "source": [
        "# **Proyecto 2**"
      ],
      "metadata": {
        "id": "LER7CDzFuVtq"
      }
    },
    {
      "cell_type": "markdown",
      "source": [
        "Imports"
      ],
      "metadata": {
        "id": "IcbZb0kiueuS"
      }
    },
    {
      "cell_type": "code",
      "execution_count": 1,
      "metadata": {
        "id": "AiYUxHapHXvs"
      },
      "outputs": [],
      "source": [
        "import pandas as pd\n",
        "import matplotlib.pyplot as plt"
      ]
    },
    {
      "cell_type": "markdown",
      "source": [
        "Lectura dataframe"
      ],
      "metadata": {
        "id": "IZspHfNEu2da"
      }
    },
    {
      "cell_type": "code",
      "source": [
        "df = pd.read_csv('/synergy_logistics_database.csv')"
      ],
      "metadata": {
        "id": "l2X1yu8Ku6qR"
      },
      "execution_count": 5,
      "outputs": []
    },
    {
      "cell_type": "markdown",
      "source": [
        "**Rutas de importación y exportación**"
      ],
      "metadata": {
        "id": "FdFPKFxPwdek"
      }
    },
    {
      "cell_type": "code",
      "source": [
        "# Separa dataframe en imports y exports\n",
        "imports = df[df['direction'] == 'Imports']\n",
        "exports = df[df['direction'] == 'Exports']"
      ],
      "metadata": {
        "id": "dFRl-mjnwF4a"
      },
      "execution_count": 6,
      "outputs": []
    },
    {
      "cell_type": "code",
      "source": [
        "# Agrupar y contar por rutas de exportación\n",
        "rutas_export = exports.groupby(['origin', 'destination','transport_mode'])\n",
        "# Ordena diez rutas con mayor demanda\n",
        "rutas_export.count()['total_value'].sort_values(ascending=False).head(10)"
      ],
      "metadata": {
        "colab": {
          "base_uri": "https://localhost:8080/"
        },
        "id": "2dU0v8VRwk5c",
        "outputId": "269cba4a-bc89-4c80-8be3-5bacfd0b7e6e"
      },
      "execution_count": 7,
      "outputs": [
        {
          "output_type": "execute_result",
          "data": {
            "text/plain": [
              "origin       destination  transport_mode\n",
              "South Korea  Vietnam      Sea               497\n",
              "USA          Netherlands  Sea               436\n",
              "Netherlands  Belgium      Road              374\n",
              "China        Mexico       Air               330\n",
              "Japan        Brazil       Sea               306\n",
              "Germany      France       Road              299\n",
              "South Korea  Japan        Sea               279\n",
              "Australia    Singapore    Sea               273\n",
              "Canada       Mexico       Rail              261\n",
              "China        Spain        Air               250\n",
              "Name: total_value, dtype: int64"
            ]
          },
          "metadata": {},
          "execution_count": 7
        }
      ]
    },
    {
      "cell_type": "code",
      "source": [
        "# Agrupar y contar por rutas de importación\n",
        "rutas_import = imports.groupby(['origin', 'destination','transport_mode'])\n",
        "# Ordena diez rutas con mayor demanda\n",
        "rutas_import.count()['total_value'].sort_values(ascending=False).head(10)"
      ],
      "metadata": {
        "colab": {
          "base_uri": "https://localhost:8080/"
        },
        "id": "W4vtm9npwtZr",
        "outputId": "3e10e19f-c5bb-4f17-e1e0-9e02ca343a64"
      },
      "execution_count": 8,
      "outputs": [
        {
          "output_type": "execute_result",
          "data": {
            "text/plain": [
              "origin     destination           transport_mode\n",
              "Singapore  Thailand              Sea               273\n",
              "Germany    China                 Sea               233\n",
              "China      Japan                 Air               210\n",
              "Japan      Mexico                Sea               206\n",
              "Malaysia   Thailand              Rail              195\n",
              "China      Thailand              Road              145\n",
              "Spain      Germany               Road              142\n",
              "China      United Arab Emirates  Sea               114\n",
              "Brazil     China                 Sea               113\n",
              "USA        Thailand              Sea               109\n",
              "Name: total_value, dtype: int64"
            ]
          },
          "metadata": {},
          "execution_count": 8
        }
      ]
    },
    {
      "cell_type": "markdown",
      "source": [
        "**Medio de transporte utilizado**"
      ],
      "metadata": {
        "id": "OiVZJQRBxD8M"
      }
    },
    {
      "cell_type": "code",
      "source": [
        "# Medio de transporte utilizado en importaciones obteniendo valor total \n",
        "imports_transport = imports.groupby(by=['transport_mode']).sum().groupby(level=[0]).cumsum()['total_value'].sort_values(ascending=False)\n",
        "# Medio de transporte utilizado en exportaciones obteniendo valor total\n",
        "exports_transport = exports.groupby(by=['transport_mode']).sum().groupby(level=[0]).cumsum()['total_value'].sort_values(ascending=False)\n",
        "print(imports_transport)\n",
        "print(exports_transport)\n"
      ],
      "metadata": {
        "colab": {
          "base_uri": "https://localhost:8080/"
        },
        "id": "j8L_Wii5xLLX",
        "outputId": "ca43b852-fc1b-4f0c-a0ff-79d1e50e86e0"
      },
      "execution_count": 11,
      "outputs": [
        {
          "output_type": "stream",
          "name": "stdout",
          "text": [
            "transport_mode\n",
            "Sea     34938000000\n",
            "Rail     9123000000\n",
            "Road     5990000000\n",
            "Air      5477000000\n",
            "Name: total_value, dtype: int64\n",
            "transport_mode\n",
            "Sea     65592622000\n",
            "Rail    34505043000\n",
            "Air     32785147000\n",
            "Road    27280486000\n",
            "Name: total_value, dtype: int64\n"
          ]
        }
      ]
    },
    {
      "cell_type": "code",
      "source": [
        "# Gráficas de resultados medios de transporte \n",
        "plt.style.use(\"bmh\")                   \n",
        "plt.bar(imports_transport.index, imports_transport) \n",
        "plt.show()                               \n",
        "plt.close('all')"
      ],
      "metadata": {
        "colab": {
          "base_uri": "https://localhost:8080/",
          "height": 273
        },
        "id": "F-QkWa_RyWbc",
        "outputId": "cb642536-7e92-4216-a77b-1b0cba185f73"
      },
      "execution_count": 16,
      "outputs": [
        {
          "output_type": "display_data",
          "data": {
            "image/png": "[encoded data removed]",
            "text/plain": [
              "<Figure size 432x288 with 1 Axes>"
            ]
          },
          "metadata": {
            "needs_background": "light"
          }
        }
      ]
    },
    {
      "cell_type": "code",
      "source": [
        "# Gráficas de resultados medios de transporte                 \n",
        "plt.bar(exports_transport.index, exports_transport) \n",
        "plt.show()                               \n",
        "plt.close('all')"
      ],
      "metadata": {
        "colab": {
          "base_uri": "https://localhost:8080/",
          "height": 273
        },
        "id": "TCZUaMMvyY-X",
        "outputId": "04962a34-feb1-4363-b5fa-699074f29f08"
      },
      "execution_count": 17,
      "outputs": [
        {
          "output_type": "display_data",
          "data": {
            "image/png": "[encoded data removed]",
            "text/plain": [
              "<Figure size 432x288 with 1 Axes>"
            ]
          },
          "metadata": {
            "needs_background": "light"
          }
        }
      ]
    },
    {
      "cell_type": "markdown",
      "source": [
        "**Valor total de importaciones y exportaciones**"
      ],
      "metadata": {
        "id": "lWOgeBoWxxkm"
      }
    },
    {
      "cell_type": "code",
      "source": [
        "# Obtenemos el total_value de importaciones y exportaciones\n",
        "total_imports = int(imports['total_value'].sum())\n",
        "total_exports = int(exports['total_value'].sum())"
      ],
      "metadata": {
        "id": "hFnjx2aPxflT"
      },
      "execution_count": 12,
      "outputs": []
    },
    {
      "cell_type": "code",
      "source": [
        "# Nuevo dataframe para obtener porcentajes de importaciones por país\n",
        "imports_pais = pd.DataFrame(imports.groupby(by=['origin']).sum().groupby(level=[0]).cumsum()['total_value'].sort_values(ascending=False))\n",
        "# Celda para porcentajes \n",
        "imports_pais['porcentaje'] = imports_pais['total_value']*100/total_imports\n",
        "# Celda para frecuencia acumulada\n",
        "imports_pais['acum'] = (imports_pais['porcentaje']).cumsum()\n",
        "print(imports_pais[:8])"
      ],
      "metadata": {
        "colab": {
          "base_uri": "https://localhost:8080/"
        },
        "id": "B93zQMrax6q3",
        "outputId": "f91a3de4-b106-439c-ab35-e07944fdbed1"
      },
      "execution_count": 14,
      "outputs": [
        {
          "output_type": "stream",
          "name": "stdout",
          "text": [
            "             total_value  porcentaje       acum\n",
            "origin                                         \n",
            "China        12233000000   22.030327  22.030327\n",
            "Japan         8094000000   14.576430  36.606757\n",
            "USA           5291000000    9.528526  46.135283\n",
            "Mexico        4621000000    8.321928  54.457211\n",
            "Germany       4250000000    7.653796  62.111007\n",
            "Singapore     4017000000    7.234188  69.345195\n",
            "South Korea   3889000000    7.003674  76.348869\n",
            "Malaysia      3560000000    6.411180  82.760049\n"
          ]
        }
      ]
    },
    {
      "cell_type": "code",
      "source": [
        "# Nuevo dataframe para obtener porcentajes de importaciones por país\n",
        "exports_pais = pd.DataFrame(exports.groupby(by=['origin']).sum().groupby(level=[0]).cumsum()['total_value'].sort_values(ascending=False))\n",
        "# Celda para porcentajes \n",
        "exports_pais['porcentaje'] = exports_pais['total_value']*100/total_exports\n",
        "# Celda para frecuencia acumulada\n",
        "exports_pais['acum'] = (exports_pais['porcentaje']).cumsum()\n",
        "print(exports_pais[:8])"
      ],
      "metadata": {
        "colab": {
          "base_uri": "https://localhost:8080/"
        },
        "id": "YXDFwvGVyJ2Q",
        "outputId": "9912086e-8e90-4e37-c4bd-2a6e5d2b55c0"
      },
      "execution_count": 15,
      "outputs": [
        {
          "output_type": "stream",
          "name": "stdout",
          "text": [
            "             total_value  porcentaje       acum\n",
            "origin                                         \n",
            "China        32977046000   20.589640  20.589640\n",
            "France       18614332000   11.622096  32.211736\n",
            "USA          18355306000   11.460370  43.672105\n",
            "South Korea  14621146000    9.128899  52.801004\n",
            "Russia       13223000000    8.255949  61.056953\n",
            "Japan        11948976000    7.460496  68.517449\n",
            "Germany      11343233000    7.082292  75.599741\n",
            "Canada       10684000000    6.670692  82.270433\n"
          ]
        }
      ]
    }
  ]
}